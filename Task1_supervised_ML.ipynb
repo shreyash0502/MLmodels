{
  "nbformat": 4,
  "nbformat_minor": 0,
  "metadata": {
    "colab": {
      "name": "Task1_supervised ML.ipynb",
      "provenance": [],
      "authorship_tag": "ABX9TyOF6idqdXOmNtWWYxKwpB5Z",
      "include_colab_link": true
    },
    "kernelspec": {
      "name": "python3",
      "display_name": "Python 3"
    },
    "language_info": {
      "name": "python"
    }
  },
  "cells": [
    {
      "cell_type": "markdown",
      "metadata": {
        "id": "view-in-github",
        "colab_type": "text"
      },
      "source": [
        "<a href=\"https://colab.research.google.com/github/shreyash0502/MLmodels/blob/main/Task1_supervised_ML.ipynb\" target=\"_parent\"><img src=\"https://colab.research.google.com/assets/colab-badge.svg\" alt=\"Open In Colab\"/></a>"
      ]
    },
    {
      "cell_type": "markdown",
      "metadata": {
        "id": "UsyH1CyJ9Eh2"
      },
      "source": [
        "<h1><b>This is my project for prediction using Supervised Machine Learning.</h1>\n",
        "\n",
        "```\n",
        "#Here, I will implement the Linear Regression ML algorithm for my model.\n",
        "```\n",
        "\n",
        "\n",
        "---\n",
        "\n",
        "\n",
        "\n",
        "\n",
        "\n",
        "\n",
        "\n"
      ]
    },
    {
      "cell_type": "markdown",
      "metadata": {
        "id": "I7b4S0oq-amw"
      },
      "source": [
        "First, we import all the necessary libraries for developing the Linear Regression model.\n",
        "\n",
        "---\n",
        "```\n",
        "# Here, we will use the sci-kit learn python library.\n",
        "# We will also use python libraries- pandas(for data formatting and manipulation) and numpy(for array manipulation).\n",
        "# Finally, I will use matplotlib library for visualization. \n",
        "```\n",
        "\n",
        "\n",
        "\n",
        "\n"
      ]
    },
    {
      "cell_type": "code",
      "metadata": {
        "id": "_msvJGngJJoM"
      },
      "source": [
        "from sklearn import linear_model\n",
        "from sklearn.model_selection import train_test_split\n",
        "from matplotlib import pyplot as plt\n",
        "import pandas as pd\n",
        "import numpy as np\n",
        "from sklearn import metrics\n"
      ],
      "execution_count": null,
      "outputs": []
    },
    {
      "cell_type": "markdown",
      "metadata": {
        "id": "lplxUUJTAlvp"
      },
      "source": [
        "Now, we will import the data from the link and store it in a variable. \n",
        "\n",
        "\n",
        "---\n",
        "\n"
      ]
    },
    {
      "cell_type": "code",
      "metadata": {
        "colab": {
          "base_uri": "https://localhost:8080/",
          "height": 787
        },
        "id": "udRiGh7CVHVN",
        "outputId": "304d8f82-07e9-42bc-9f79-dc42b3e96f2f"
      },
      "source": [
        "data = pd.read_csv(\"http://bit.ly/w-data\")\n",
        "data"
      ],
      "execution_count": null,
      "outputs": [
        {
          "output_type": "execute_result",
          "data": {
            "text/html": [
              "<div>\n",
              "<style scoped>\n",
              "    .dataframe tbody tr th:only-of-type {\n",
              "        vertical-align: middle;\n",
              "    }\n",
              "\n",
              "    .dataframe tbody tr th {\n",
              "        vertical-align: top;\n",
              "    }\n",
              "\n",
              "    .dataframe thead th {\n",
              "        text-align: right;\n",
              "    }\n",
              "</style>\n",
              "<table border=\"1\" class=\"dataframe\">\n",
              "  <thead>\n",
              "    <tr style=\"text-align: right;\">\n",
              "      <th></th>\n",
              "      <th>Hours</th>\n",
              "      <th>Scores</th>\n",
              "    </tr>\n",
              "  </thead>\n",
              "  <tbody>\n",
              "    <tr>\n",
              "      <th>0</th>\n",
              "      <td>2.5</td>\n",
              "      <td>21</td>\n",
              "    </tr>\n",
              "    <tr>\n",
              "      <th>1</th>\n",
              "      <td>5.1</td>\n",
              "      <td>47</td>\n",
              "    </tr>\n",
              "    <tr>\n",
              "      <th>2</th>\n",
              "      <td>3.2</td>\n",
              "      <td>27</td>\n",
              "    </tr>\n",
              "    <tr>\n",
              "      <th>3</th>\n",
              "      <td>8.5</td>\n",
              "      <td>75</td>\n",
              "    </tr>\n",
              "    <tr>\n",
              "      <th>4</th>\n",
              "      <td>3.5</td>\n",
              "      <td>30</td>\n",
              "    </tr>\n",
              "    <tr>\n",
              "      <th>5</th>\n",
              "      <td>1.5</td>\n",
              "      <td>20</td>\n",
              "    </tr>\n",
              "    <tr>\n",
              "      <th>6</th>\n",
              "      <td>9.2</td>\n",
              "      <td>88</td>\n",
              "    </tr>\n",
              "    <tr>\n",
              "      <th>7</th>\n",
              "      <td>5.5</td>\n",
              "      <td>60</td>\n",
              "    </tr>\n",
              "    <tr>\n",
              "      <th>8</th>\n",
              "      <td>8.3</td>\n",
              "      <td>81</td>\n",
              "    </tr>\n",
              "    <tr>\n",
              "      <th>9</th>\n",
              "      <td>2.7</td>\n",
              "      <td>25</td>\n",
              "    </tr>\n",
              "    <tr>\n",
              "      <th>10</th>\n",
              "      <td>7.7</td>\n",
              "      <td>85</td>\n",
              "    </tr>\n",
              "    <tr>\n",
              "      <th>11</th>\n",
              "      <td>5.9</td>\n",
              "      <td>62</td>\n",
              "    </tr>\n",
              "    <tr>\n",
              "      <th>12</th>\n",
              "      <td>4.5</td>\n",
              "      <td>41</td>\n",
              "    </tr>\n",
              "    <tr>\n",
              "      <th>13</th>\n",
              "      <td>3.3</td>\n",
              "      <td>42</td>\n",
              "    </tr>\n",
              "    <tr>\n",
              "      <th>14</th>\n",
              "      <td>1.1</td>\n",
              "      <td>17</td>\n",
              "    </tr>\n",
              "    <tr>\n",
              "      <th>15</th>\n",
              "      <td>8.9</td>\n",
              "      <td>95</td>\n",
              "    </tr>\n",
              "    <tr>\n",
              "      <th>16</th>\n",
              "      <td>2.5</td>\n",
              "      <td>30</td>\n",
              "    </tr>\n",
              "    <tr>\n",
              "      <th>17</th>\n",
              "      <td>1.9</td>\n",
              "      <td>24</td>\n",
              "    </tr>\n",
              "    <tr>\n",
              "      <th>18</th>\n",
              "      <td>6.1</td>\n",
              "      <td>67</td>\n",
              "    </tr>\n",
              "    <tr>\n",
              "      <th>19</th>\n",
              "      <td>7.4</td>\n",
              "      <td>69</td>\n",
              "    </tr>\n",
              "    <tr>\n",
              "      <th>20</th>\n",
              "      <td>2.7</td>\n",
              "      <td>30</td>\n",
              "    </tr>\n",
              "    <tr>\n",
              "      <th>21</th>\n",
              "      <td>4.8</td>\n",
              "      <td>54</td>\n",
              "    </tr>\n",
              "    <tr>\n",
              "      <th>22</th>\n",
              "      <td>3.8</td>\n",
              "      <td>35</td>\n",
              "    </tr>\n",
              "    <tr>\n",
              "      <th>23</th>\n",
              "      <td>6.9</td>\n",
              "      <td>76</td>\n",
              "    </tr>\n",
              "    <tr>\n",
              "      <th>24</th>\n",
              "      <td>7.8</td>\n",
              "      <td>86</td>\n",
              "    </tr>\n",
              "  </tbody>\n",
              "</table>\n",
              "</div>"
            ],
            "text/plain": [
              "    Hours  Scores\n",
              "0     2.5      21\n",
              "1     5.1      47\n",
              "2     3.2      27\n",
              "3     8.5      75\n",
              "4     3.5      30\n",
              "5     1.5      20\n",
              "6     9.2      88\n",
              "7     5.5      60\n",
              "8     8.3      81\n",
              "9     2.7      25\n",
              "10    7.7      85\n",
              "11    5.9      62\n",
              "12    4.5      41\n",
              "13    3.3      42\n",
              "14    1.1      17\n",
              "15    8.9      95\n",
              "16    2.5      30\n",
              "17    1.9      24\n",
              "18    6.1      67\n",
              "19    7.4      69\n",
              "20    2.7      30\n",
              "21    4.8      54\n",
              "22    3.8      35\n",
              "23    6.9      76\n",
              "24    7.8      86"
            ]
          },
          "metadata": {
            "tags": []
          },
          "execution_count": 2
        }
      ]
    },
    {
      "cell_type": "markdown",
      "metadata": {
        "id": "e6c996ttBYwt"
      },
      "source": [
        "I will now manipulate the data variable and store the features and labels in separate variables \"X\" & \"y\".\n",
        "\n",
        "\n",
        "---\n",
        "\n"
      ]
    },
    {
      "cell_type": "code",
      "metadata": {
        "id": "AmmEElvkgo4i"
      },
      "source": [
        "#X = data.iloc[:, :-1].values  \n",
        "#y = data.iloc[:, 1].values\n",
        "X = data[[\"Hours\"]].values\n",
        "y = data[[\"Scores\"]].values\n",
        "#y = y.T\n",
        "#y = y.reshape((-1,))\n",
        "#print(X.shape, y.shape)\n",
        "#print(X, y)"
      ],
      "execution_count": null,
      "outputs": []
    },
    {
      "cell_type": "markdown",
      "metadata": {
        "id": "2BR9V3oCFA_L"
      },
      "source": [
        "Visualization of data is an important aspect. With visualization, we can understand better and develop human insights like developing trends and patterns in data. \n",
        "\n",
        "Now, we will visualize the data.\n",
        "\n",
        "---\n",
        "\n"
      ]
    },
    {
      "cell_type": "code",
      "metadata": {
        "colab": {
          "base_uri": "https://localhost:8080/",
          "height": 295
        },
        "id": "zjLeV3d8h_Lq",
        "outputId": "c8b017ec-5884-4881-c899-95c85b364c31"
      },
      "source": [
        "l_reg = linear_model.LinearRegression()\n",
        "ax = plt.axes()\n",
        "ax.set_facecolor(\"#f3faff\")\n",
        "plt.grid()\n",
        "plt.scatter(X, y)\n",
        "plt.legend([\"Scores\"])\n",
        "plt.title('Hours vs Percentage')  \n",
        "plt.xlabel('Hours Studied')  \n",
        "plt.ylabel('Percentage Score')\n",
        "plt.show()"
      ],
      "execution_count": null,
      "outputs": [
        {
          "output_type": "display_data",
          "data": {
            "image/png": "[encoded data removed]",
            "text/plain": [
              "<Figure size 432x288 with 1 Axes>"
            ]
          },
          "metadata": {
            "tags": [],
            "needs_background": "light"
          }
        }
      ]
    },
    {
      "cell_type": "markdown",
      "metadata": {
        "id": "QPcp57xyEq2-"
      },
      "source": [
        "Now, we have successfully imported the data and visualized it. We can now train our Linear Regression model as shown below. \n",
        "\n",
        "\n",
        "---\n",
        "\n"
      ]
    },
    {
      "cell_type": "code",
      "metadata": {
        "id": "Hf5Nc0tPipIU",
        "colab": {
          "base_uri": "https://localhost:8080/",
          "height": 313
        },
        "outputId": "a9f55279-078b-4f15-c1ee-d89ee7ee6c32"
      },
      "source": [
        "X_train, X_test, y_train, y_test = train_test_split(X, y, test_size=0.2)\n",
        "model = l_reg.fit(X_train, y_train)\n",
        "print(\"Training complete!\")\n",
        "m = l_reg.coef_\n",
        "b = l_reg.intercept_\n",
        "line = m*X + b\n",
        "ax = plt.axes()\n",
        "ax.set_facecolor(\"#f3faff\")\n",
        "plt.grid()\n",
        "plt.scatter(X, y)\n",
        "plt.legend([\"Scores\"])\n",
        "plt.title('Hours vs Percentage') \n",
        "plt.plot(X, line) \n",
        "plt.xlabel('Hours Studied')  \n",
        "plt.ylabel('Percentage Score')\n",
        "plt.show()"
      ],
      "execution_count": null,
      "outputs": [
        {
          "output_type": "stream",
          "text": [
            "Training complete!\n"
          ],
          "name": "stdout"
        },
        {
          "output_type": "display_data",
          "data": {
            "image/png": "[encoded data removed]",
            "text/plain": [
              "<Figure size 432x288 with 1 Axes>"
            ]
          },
          "metadata": {
            "tags": [],
            "needs_background": "light"
          }
        }
      ]
    },
    {
      "cell_type": "markdown",
      "metadata": {
        "id": "WBuaqnnNEJcC"
      },
      "source": [
        "We can verify our model has trained correctly by comparing its result on the test-set with the actual values. \n",
        "\n",
        "\n",
        "---\n",
        "\n"
      ]
    },
    {
      "cell_type": "code",
      "metadata": {
        "colab": {
          "base_uri": "https://localhost:8080/",
          "height": 195
        },
        "id": "GMF0hrZokxoW",
        "outputId": "10b3b423-8f58-4175-b9ec-5c54594a42ef"
      },
      "source": [
        "y_pred = model.predict(X_test)\n",
        "#print(y_test.shape, y_pred.shape)\n",
        "y_pred = y_pred.reshape((-1,))\n",
        "y_test = y_test.reshape((-1,))\n",
        "#print(y_test.shape, y_pred.shape)\n",
        "#y_pred.reshape(1, -1)\n",
        "#print(y_pred)\n",
        "#print(y_test)\n",
        "df = pd.DataFrame({'Actual': y_test, 'Predicted': y_pred})  \n",
        "df"
      ],
      "execution_count": null,
      "outputs": [
        {
          "output_type": "execute_result",
          "data": {
            "text/html": [
              "<div>\n",
              "<style scoped>\n",
              "    .dataframe tbody tr th:only-of-type {\n",
              "        vertical-align: middle;\n",
              "    }\n",
              "\n",
              "    .dataframe tbody tr th {\n",
              "        vertical-align: top;\n",
              "    }\n",
              "\n",
              "    .dataframe thead th {\n",
              "        text-align: right;\n",
              "    }\n",
              "</style>\n",
              "<table border=\"1\" class=\"dataframe\">\n",
              "  <thead>\n",
              "    <tr style=\"text-align: right;\">\n",
              "      <th></th>\n",
              "      <th>Actual</th>\n",
              "      <th>Predicted</th>\n",
              "    </tr>\n",
              "  </thead>\n",
              "  <tbody>\n",
              "    <tr>\n",
              "      <th>0</th>\n",
              "      <td>47</td>\n",
              "      <td>53.075278</td>\n",
              "    </tr>\n",
              "    <tr>\n",
              "      <th>1</th>\n",
              "      <td>27</td>\n",
              "      <td>34.448887</td>\n",
              "    </tr>\n",
              "    <tr>\n",
              "      <th>2</th>\n",
              "      <td>69</td>\n",
              "      <td>75.623015</td>\n",
              "    </tr>\n",
              "    <tr>\n",
              "      <th>3</th>\n",
              "      <td>76</td>\n",
              "      <td>70.721333</td>\n",
              "    </tr>\n",
              "    <tr>\n",
              "      <th>4</th>\n",
              "      <td>81</td>\n",
              "      <td>84.446042</td>\n",
              "    </tr>\n",
              "  </tbody>\n",
              "</table>\n",
              "</div>"
            ],
            "text/plain": [
              "   Actual  Predicted\n",
              "0      47  53.075278\n",
              "1      27  34.448887\n",
              "2      69  75.623015\n",
              "3      76  70.721333\n",
              "4      81  84.446042"
            ]
          },
          "metadata": {
            "tags": []
          },
          "execution_count": 9
        }
      ]
    },
    {
      "cell_type": "markdown",
      "metadata": {
        "id": "cst5QN0IDtFO"
      },
      "source": [
        "Now that we have trained the model and cross-checked it on test-set, We can make predictions using our own data and get the output. \n",
        "\n",
        "\n",
        "---\n",
        "\n"
      ]
    },
    {
      "cell_type": "code",
      "metadata": {
        "id": "rKKKFZzw1hck",
        "colab": {
          "base_uri": "https://localhost:8080/",
          "height": 330
        },
        "outputId": "87b07746-478c-4559-d616-7d88abdd80b6"
      },
      "source": [
        "#on custom data\n",
        "hours = input(\"Enter hours of study: \")\n",
        "#hours = 9.25\n",
        "hours = np.array(hours, dtype='float64')\n",
        "prediction = model.predict(hours.reshape(1, -1))\n",
        "print(\"Prediction = {}\".format(prediction[0][0]))\n",
        "#plt.figure(facecolor = \"blue\")\n",
        "ax = plt.axes()\n",
        "plt.legend([\"Scores\"])\n",
        "plt.title('Hours vs Percentage') \n",
        "plt.plot(X, line) \n",
        "plt.axvline(x = hours, linestyle = \"dashed\")\n",
        "ax.set_facecolor(\"#f3faff\")\n",
        "#plt.annotate(\"Input Hours\", (hours, 10))\n",
        "plt.annotate(s = \"(\"+str(hours)+\", \"+str(\"{:.2f}\".format(prediction[0][0]))+\")\", xy = (hours, prediction[0][0]), xytext =(hours+2, prediction[0][0]-2), arrowprops = dict(facecolor ='green', shrink = 0.005))\n",
        "plt.axhline(y = prediction[0][0], linestyle = \"dashed\")\n",
        "plt.xlabel('Hours Studied')  \n",
        "plt.ylabel('Percentage Score')\n",
        "plt.grid()\n",
        "plt.show()"
      ],
      "execution_count": null,
      "outputs": [
        {
          "output_type": "stream",
          "text": [
            "Enter hours of study: 9.25\n",
            "Prediction = 93.7592378391897\n"
          ],
          "name": "stdout"
        },
        {
          "output_type": "display_data",
          "data": {
            "image/png": "[encoded data removed]",
            "text/plain": [
              "<Figure size 432x288 with 1 Axes>"
            ]
          },
          "metadata": {
            "tags": [],
            "needs_background": "light"
          }
        }
      ]
    },
    {
      "cell_type": "markdown",
      "metadata": {
        "id": "JQNu6vDdDfkb"
      },
      "source": [
        "We can evaluate the performance of the model based on some metrics which are shown below. \n",
        "\n",
        "\n",
        "---\n",
        "\n"
      ]
    },
    {
      "cell_type": "code",
      "metadata": {
        "colab": {
          "base_uri": "https://localhost:8080/"
        },
        "id": "TblXZgqYf9Qf",
        "outputId": "b97fd701-9e2e-4357-e7ca-173db064f263"
      },
      "source": [
        "print(\"R^2 Score: \", model.score(X_test, y_test))\n",
        "print(\"Metric Error Score: \", metrics.mean_absolute_error(y_test, y_pred))"
      ],
      "execution_count": null,
      "outputs": [
        {
          "output_type": "stream",
          "text": [
            "R^2 Score:  0.9135565898631521\n",
            "Metric Error Score:  5.774377891709396\n"
          ],
          "name": "stdout"
        }
      ]
    }
  ]
}