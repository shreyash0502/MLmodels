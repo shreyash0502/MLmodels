{
  "nbformat": 4,
  "nbformat_minor": 0,
  "metadata": {
    "colab": {
      "name": "Task1_supervised ML.ipynb",
      "provenance": [],
      "authorship_tag": "ABX9TyPE1jfTZszP6LlA9hol0sNW",
      "include_colab_link": true
    },
    "kernelspec": {
      "name": "python3",
      "display_name": "Python 3"
    },
    "language_info": {
      "name": "python"
    }
  },
  "cells": [
    {
      "cell_type": "markdown",
      "metadata": {
        "id": "view-in-github",
        "colab_type": "text"
      },
      "source": [
        "<a href=\"https://colab.research.google.com/github/shreyash0502/MLmodels/blob/main/Task1_supervised_ML.ipynb\" target=\"_parent\"><img src=\"https://colab.research.google.com/assets/colab-badge.svg\" alt=\"Open In Colab\"/></a>"
      ]
    },
    {
      "cell_type": "markdown",
      "metadata": {
        "id": "UsyH1CyJ9Eh2"
      },
      "source": [
        "<h1><b>This is my project for prediction using Supervised Machine Learning.</h1>\n",
        "\n",
        "```\n",
        "#Here, I will implement the Linear Regression ML algorithm for my model.\n",
        "```\n",
        "\n",
        "\n",
        "---\n",
        "\n",
        "\n",
        "\n",
        "\n",
        "\n",
        "\n",
        "\n"
      ]
    },
    {
      "cell_type": "markdown",
      "metadata": {
        "id": "I7b4S0oq-amw"
      },
      "source": [
        "First, we import all the necessary libraries for developing the Linear Regression model.\n",
        "\n",
        "---\n",
        "```\n",
        "# Here, we will use the sci-kit learn python library.\n",
        "# We will also use python libraries- pandas(for data formatting and manipulation) and numpy(for array manipulation).\n",
        "# Finally, I will use matplotlib library for visualization. \n",
        "```\n",
        "\n",
        "\n",
        "\n",
        "\n"
      ]
    },
    {
      "cell_type": "code",
      "metadata": {
        "id": "_msvJGngJJoM"
      },
      "source": [
        "from sklearn import linear_model\n",
        "from sklearn.model_selection import train_test_split\n",
        "from matplotlib import pyplot as plt\n",
        "import pandas as pd\n",
        "import numpy as np\n",
        "from sklearn import metrics\n"
      ],
      "execution_count": null,
      "outputs": []
    },
    {
      "cell_type": "markdown",
      "metadata": {
        "id": "lplxUUJTAlvp"
      },
      "source": [
        "Now, we will import the data from the link and store it in a variable. \n",
        "\n",
        "\n",
        "---\n",
        "\n"
      ]
    },
    {
      "cell_type": "code",
      "metadata": {
        "colab": {
          "base_uri": "https://localhost:8080/",
          "height": 213
        },
        "id": "udRiGh7CVHVN",
        "outputId": "69ad4d08-c812-4938-d018-9c34898f6fd1"
      },
      "source": [
        "data = pd.read_csv(\"http://bit.ly/w-data\")\n",
        "display(data.head(5))\n",
        "print(\"Data Imported Successfully!\")"
      ],
      "execution_count": null,
      "outputs": [
        {
          "output_type": "display_data",
          "data": {
            "text/html": [
              "<div>\n",
              "<style scoped>\n",
              "    .dataframe tbody tr th:only-of-type {\n",
              "        vertical-align: middle;\n",
              "    }\n",
              "\n",
              "    .dataframe tbody tr th {\n",
              "        vertical-align: top;\n",
              "    }\n",
              "\n",
              "    .dataframe thead th {\n",
              "        text-align: right;\n",
              "    }\n",
              "</style>\n",
              "<table border=\"1\" class=\"dataframe\">\n",
              "  <thead>\n",
              "    <tr style=\"text-align: right;\">\n",
              "      <th></th>\n",
              "      <th>Hours</th>\n",
              "      <th>Scores</th>\n",
              "    </tr>\n",
              "  </thead>\n",
              "  <tbody>\n",
              "    <tr>\n",
              "      <th>0</th>\n",
              "      <td>2.5</td>\n",
              "      <td>21</td>\n",
              "    </tr>\n",
              "    <tr>\n",
              "      <th>1</th>\n",
              "      <td>5.1</td>\n",
              "      <td>47</td>\n",
              "    </tr>\n",
              "    <tr>\n",
              "      <th>2</th>\n",
              "      <td>3.2</td>\n",
              "      <td>27</td>\n",
              "    </tr>\n",
              "    <tr>\n",
              "      <th>3</th>\n",
              "      <td>8.5</td>\n",
              "      <td>75</td>\n",
              "    </tr>\n",
              "    <tr>\n",
              "      <th>4</th>\n",
              "      <td>3.5</td>\n",
              "      <td>30</td>\n",
              "    </tr>\n",
              "  </tbody>\n",
              "</table>\n",
              "</div>"
            ],
            "text/plain": [
              "   Hours  Scores\n",
              "0    2.5      21\n",
              "1    5.1      47\n",
              "2    3.2      27\n",
              "3    8.5      75\n",
              "4    3.5      30"
            ]
          },
          "metadata": {
            "tags": []
          }
        },
        {
          "output_type": "stream",
          "text": [
            "Data Imported Successfully!\n"
          ],
          "name": "stdout"
        }
      ]
    },
    {
      "cell_type": "markdown",
      "metadata": {
        "id": "e6c996ttBYwt"
      },
      "source": [
        "I will now manipulate the data variable and store the features and labels in separate variables \"X\" & \"y\".\n",
        "\n",
        "\n",
        "---\n",
        "\n"
      ]
    },
    {
      "cell_type": "code",
      "metadata": {
        "id": "AmmEElvkgo4i"
      },
      "source": [
        "#X = data.iloc[:, :-1].values  \n",
        "#y = data.iloc[:, 1].values\n",
        "X = data[[\"Hours\"]].values\n",
        "y = data[[\"Scores\"]].values\n",
        "#y = y.T\n",
        "#y = y.reshape((-1,))\n",
        "#print(X.shape, y.shape)\n",
        "#print(X, y)"
      ],
      "execution_count": null,
      "outputs": []
    },
    {
      "cell_type": "markdown",
      "metadata": {
        "id": "2BR9V3oCFA_L"
      },
      "source": [
        "Visualization of data is an important aspect. With visualization, we can understand better and develop human insights like developing trends and patterns in data. \n",
        "\n",
        "Now, we will visualize the data.\n",
        "\n",
        "---\n",
        "\n"
      ]
    },
    {
      "cell_type": "code",
      "metadata": {
        "colab": {
          "base_uri": "https://localhost:8080/",
          "height": 513
        },
        "id": "zjLeV3d8h_Lq",
        "outputId": "0f617512-88b1-44bd-f064-c83f8e1228be"
      },
      "source": [
        "l_reg = linear_model.LinearRegression()\n",
        "plt.figure(figsize = (10, 8))\n",
        "ax = plt.axes()\n",
        "ax.set_facecolor(\"#f3faff\")\n",
        "plt.grid()\n",
        "plt.scatter(X, y, s = 100)\n",
        "plt.legend([\"Scores\"])\n",
        "plt.title('Hours vs Percentage')  \n",
        "plt.xlabel('Hours Studied')  \n",
        "plt.ylabel('Percentage Score')\n",
        "plt.show()"
      ],
      "execution_count": 20,
      "outputs": [
        {
          "output_type": "display_data",
          "data": {
            "image/png": "[encoded data removed]",
            "text/plain": [
              "<Figure size 720x576 with 1 Axes>"
            ]
          },
          "metadata": {
            "tags": [],
            "needs_background": "light"
          }
        }
      ]
    },
    {
      "cell_type": "markdown",
      "metadata": {
        "id": "QPcp57xyEq2-"
      },
      "source": [
        "Now, we have successfully imported the data and visualized it. We can now train our Linear Regression model as shown below. \n",
        "\n",
        "\n",
        "---\n",
        "\n"
      ]
    },
    {
      "cell_type": "code",
      "metadata": {
        "id": "Hf5Nc0tPipIU",
        "colab": {
          "base_uri": "https://localhost:8080/",
          "height": 530
        },
        "outputId": "66c6b87b-7257-495a-f46f-90199ec8ee85"
      },
      "source": [
        "X_train, X_test, y_train, y_test = train_test_split(X, y, test_size=0.2)\n",
        "model = l_reg.fit(X_train, y_train)\n",
        "print(\"Training complete!\")\n",
        "m = l_reg.coef_\n",
        "b = l_reg.intercept_\n",
        "line = m*X + b\n",
        "plt.figure(figsize = (10, 8))\n",
        "ax = plt.axes()\n",
        "ax.set_facecolor(\"#f3faff\")\n",
        "plt.grid()\n",
        "plt.scatter(X, y, s = 100)\n",
        "plt.legend([\"Scores\"])\n",
        "plt.title('Hours vs Percentage') \n",
        "plt.plot(X, line) \n",
        "plt.xlabel('Hours Studied')  \n",
        "plt.ylabel('Percentage Score')\n",
        "plt.show()"
      ],
      "execution_count": 19,
      "outputs": [
        {
          "output_type": "stream",
          "text": [
            "Training complete!\n"
          ],
          "name": "stdout"
        },
        {
          "output_type": "display_data",
          "data": {
            "image/png": "[encoded data removed]",
            "text/plain": [
              "<Figure size 720x576 with 1 Axes>"
            ]
          },
          "metadata": {
            "tags": [],
            "needs_background": "light"
          }
        }
      ]
    },
    {
      "cell_type": "markdown",
      "metadata": {
        "id": "WBuaqnnNEJcC"
      },
      "source": [
        "We can verify our model has trained correctly by comparing its result on the test-set with the actual values. \n",
        "\n",
        "\n",
        "---\n",
        "\n"
      ]
    },
    {
      "cell_type": "code",
      "metadata": {
        "colab": {
          "base_uri": "https://localhost:8080/",
          "height": 195
        },
        "id": "GMF0hrZokxoW",
        "outputId": "6bc4cd95-cd25-43be-8670-426e12fb4d95"
      },
      "source": [
        "y_pred = model.predict(X_test)\n",
        "#print(y_test.shape, y_pred.shape)\n",
        "y_pred = y_pred.reshape((-1,))\n",
        "y_test = y_test.reshape((-1,))\n",
        "#print(y_test.shape, y_pred.shape)\n",
        "#y_pred.reshape(1, -1)\n",
        "#print(y_pred)\n",
        "#print(y_test)\n",
        "df = pd.DataFrame({'Actual': y_test, 'Predicted': y_pred})  \n",
        "df"
      ],
      "execution_count": null,
      "outputs": [
        {
          "output_type": "execute_result",
          "data": {
            "text/html": [
              "<div>\n",
              "<style scoped>\n",
              "    .dataframe tbody tr th:only-of-type {\n",
              "        vertical-align: middle;\n",
              "    }\n",
              "\n",
              "    .dataframe tbody tr th {\n",
              "        vertical-align: top;\n",
              "    }\n",
              "\n",
              "    .dataframe thead th {\n",
              "        text-align: right;\n",
              "    }\n",
              "</style>\n",
              "<table border=\"1\" class=\"dataframe\">\n",
              "  <thead>\n",
              "    <tr style=\"text-align: right;\">\n",
              "      <th></th>\n",
              "      <th>Actual</th>\n",
              "      <th>Predicted</th>\n",
              "    </tr>\n",
              "  </thead>\n",
              "  <tbody>\n",
              "    <tr>\n",
              "      <th>0</th>\n",
              "      <td>85</td>\n",
              "      <td>77.344542</td>\n",
              "    </tr>\n",
              "    <tr>\n",
              "      <th>1</th>\n",
              "      <td>47</td>\n",
              "      <td>52.256096</td>\n",
              "    </tr>\n",
              "    <tr>\n",
              "      <th>2</th>\n",
              "      <td>24</td>\n",
              "      <td>21.378008</td>\n",
              "    </tr>\n",
              "    <tr>\n",
              "      <th>3</th>\n",
              "      <td>30</td>\n",
              "      <td>29.097530</td>\n",
              "    </tr>\n",
              "    <tr>\n",
              "      <th>4</th>\n",
              "      <td>25</td>\n",
              "      <td>29.097530</td>\n",
              "    </tr>\n",
              "  </tbody>\n",
              "</table>\n",
              "</div>"
            ],
            "text/plain": [
              "   Actual  Predicted\n",
              "0      85  77.344542\n",
              "1      47  52.256096\n",
              "2      24  21.378008\n",
              "3      30  29.097530\n",
              "4      25  29.097530"
            ]
          },
          "metadata": {
            "tags": []
          },
          "execution_count": 12
        }
      ]
    },
    {
      "cell_type": "markdown",
      "metadata": {
        "id": "cst5QN0IDtFO"
      },
      "source": [
        "Now that we have trained the model and cross-checked it on test-set, We can make predictions using our own data and get the output. \n",
        "\n",
        "\n",
        "---\n",
        "\n"
      ]
    },
    {
      "cell_type": "code",
      "metadata": {
        "id": "rKKKFZzw1hck",
        "colab": {
          "base_uri": "https://localhost:8080/",
          "height": 548
        },
        "outputId": "6efafbe9-b1ed-408d-ac4b-586fa0b4b75b"
      },
      "source": [
        "#on custom data\n",
        "hours = input(\"Enter hours of study: \")\n",
        "#hours = 9.25\n",
        "hours = np.array(hours, dtype='float64')\n",
        "prediction = model.predict(hours.reshape(1, -1))\n",
        "print(\"Prediction = {}\".format(prediction[0][0]))\n",
        "#plt.figure(facecolor = \"blue\")\n",
        "plt.figure(figsize = (10, 8))\n",
        "ax = plt.axes()\n",
        "plt.legend([\"Scores\"])\n",
        "plt.title('Hours vs Percentage') \n",
        "plt.plot(X, line) \n",
        "plt.axvline(x = hours, linestyle = \"dashed\")\n",
        "ax.set_facecolor(\"#f3faff\")\n",
        "#plt.annotate(\"Input Hours\", (hours, 10))\n",
        "plt.annotate(s = \"(\"+str(hours)+\", \"+str(\"{:.2f}\".format(prediction[0][0]))+\")\", xy = (hours, prediction[0][0]), xytext =(hours+2, prediction[0][0]-2), arrowprops = dict(facecolor ='green', shrink = 0.005))\n",
        "plt.axhline(y = prediction[0][0], linestyle = \"dashed\")\n",
        "plt.xlabel('Hours Studied')  \n",
        "plt.ylabel('Percentage Score')\n",
        "plt.grid()\n",
        "plt.show()"
      ],
      "execution_count": null,
      "outputs": [
        {
          "output_type": "stream",
          "text": [
            "Enter hours of study: 9.25\n",
            "Prediction = 93.89460130149016\n"
          ],
          "name": "stdout"
        },
        {
          "output_type": "display_data",
          "data": {
            "image/png": "[encoded data removed]",
            "text/plain": [
              "<Figure size 720x576 with 1 Axes>"
            ]
          },
          "metadata": {
            "tags": [],
            "needs_background": "light"
          }
        }
      ]
    },
    {
      "cell_type": "markdown",
      "metadata": {
        "id": "JQNu6vDdDfkb"
      },
      "source": [
        "We can evaluate the performance of the model based on some metrics which are shown below. \n",
        "\n",
        "\n",
        "---\n",
        "\n"
      ]
    },
    {
      "cell_type": "code",
      "metadata": {
        "colab": {
          "base_uri": "https://localhost:8080/"
        },
        "id": "TblXZgqYf9Qf",
        "outputId": "2970a623-fbfc-4fd5-b3f1-aa30fcc9918e"
      },
      "source": [
        "print(\"R^2 Score: \", model.score(X_test, y_test))\n",
        "print(\"Metric Error Score: \", metrics.mean_absolute_error(y_test, y_pred))"
      ],
      "execution_count": null,
      "outputs": [
        {
          "output_type": "stream",
          "text": [
            "R^2 Score:  0.9579171272245677\n",
            "Metric Error Score:  4.106709182851803\n"
          ],
          "name": "stdout"
        }
      ]
    }
  ]
}