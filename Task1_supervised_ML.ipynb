{
  "nbformat": 4,
  "nbformat_minor": 0,
  "metadata": {
    "colab": {
      "name": "Task1_supervised ML.ipynb",
      "provenance": [],
      "authorship_tag": "ABX9TyOXahnsc59YJ6VcoHvMRoCR",
      "include_colab_link": true
    },
    "kernelspec": {
      "name": "python3",
      "display_name": "Python 3"
    },
    "language_info": {
      "name": "python"
    }
  },
  "cells": [
    {
      "cell_type": "markdown",
      "metadata": {
        "id": "view-in-github",
        "colab_type": "text"
      },
      "source": [
        "<a href=\"https://colab.research.google.com/github/shreyash0502/MLmodels/blob/main/Task1_supervised_ML.ipynb\" target=\"_parent\"><img src=\"https://colab.research.google.com/assets/colab-badge.svg\" alt=\"Open In Colab\"/></a>"
      ]
    },
    {
      "cell_type": "markdown",
      "metadata": {
        "id": "UsyH1CyJ9Eh2"
      },
      "source": [
        "<h1><b>This is my project for prediction using Supervised Machine Learning.</h1>\n",
        "\n",
        "```\n",
        "#Here, I will implement the Linear Regression ML algorithm for my model.\n",
        "```\n",
        "\n",
        "\n",
        "---\n",
        "\n",
        "\n",
        "\n",
        "\n",
        "\n",
        "\n",
        "\n"
      ]
    },
    {
      "cell_type": "markdown",
      "metadata": {
        "id": "I7b4S0oq-amw"
      },
      "source": [
        "First, we import all the necessary libraries for developing the Linear Regression model.\n",
        "\n",
        "---\n",
        "```\n",
        "# Here, we will use the sci-kit learn python library.\n",
        "# We will also use python libraries- pandas(for data formatting and manipulation) and numpy(for array manipulation).\n",
        "# Finally, I will use matplotlib library for visualization. \n",
        "```\n",
        "\n",
        "\n",
        "\n",
        "\n"
      ]
    },
    {
      "cell_type": "code",
      "metadata": {
        "id": "_msvJGngJJoM"
      },
      "source": [
        "from sklearn import linear_model\n",
        "from sklearn.model_selection import train_test_split\n",
        "from matplotlib import pyplot as plt\n",
        "import pandas as pd\n",
        "import numpy as np\n",
        "from sklearn import metrics\n"
      ],
      "execution_count": null,
      "outputs": []
    },
    {
      "cell_type": "markdown",
      "metadata": {
        "id": "lplxUUJTAlvp"
      },
      "source": [
        "Now, we will import the data from the link and store it in a variable. \n",
        "\n",
        "\n",
        "---\n",
        "\n"
      ]
    },
    {
      "cell_type": "code",
      "metadata": {
        "colab": {
          "base_uri": "https://localhost:8080/",
          "height": 213
        },
        "id": "udRiGh7CVHVN",
        "outputId": "209b9f1b-25ec-4778-a3d3-7dd8892827b9"
      },
      "source": [
        "data = pd.read_csv(\"http://bit.ly/w-data\")\n",
        "display(data.head(5))\n",
        "print(\"Data Imported Successfully!\")"
      ],
      "execution_count": null,
      "outputs": [
        {
          "output_type": "display_data",
          "data": {
            "text/html": [
              "<div>\n",
              "<style scoped>\n",
              "    .dataframe tbody tr th:only-of-type {\n",
              "        vertical-align: middle;\n",
              "    }\n",
              "\n",
              "    .dataframe tbody tr th {\n",
              "        vertical-align: top;\n",
              "    }\n",
              "\n",
              "    .dataframe thead th {\n",
              "        text-align: right;\n",
              "    }\n",
              "</style>\n",
              "<table border=\"1\" class=\"dataframe\">\n",
              "  <thead>\n",
              "    <tr style=\"text-align: right;\">\n",
              "      <th></th>\n",
              "      <th>Hours</th>\n",
              "      <th>Scores</th>\n",
              "    </tr>\n",
              "  </thead>\n",
              "  <tbody>\n",
              "    <tr>\n",
              "      <th>0</th>\n",
              "      <td>2.5</td>\n",
              "      <td>21</td>\n",
              "    </tr>\n",
              "    <tr>\n",
              "      <th>1</th>\n",
              "      <td>5.1</td>\n",
              "      <td>47</td>\n",
              "    </tr>\n",
              "    <tr>\n",
              "      <th>2</th>\n",
              "      <td>3.2</td>\n",
              "      <td>27</td>\n",
              "    </tr>\n",
              "    <tr>\n",
              "      <th>3</th>\n",
              "      <td>8.5</td>\n",
              "      <td>75</td>\n",
              "    </tr>\n",
              "    <tr>\n",
              "      <th>4</th>\n",
              "      <td>3.5</td>\n",
              "      <td>30</td>\n",
              "    </tr>\n",
              "  </tbody>\n",
              "</table>\n",
              "</div>"
            ],
            "text/plain": [
              "   Hours  Scores\n",
              "0    2.5      21\n",
              "1    5.1      47\n",
              "2    3.2      27\n",
              "3    8.5      75\n",
              "4    3.5      30"
            ]
          },
          "metadata": {
            "tags": []
          }
        },
        {
          "output_type": "stream",
          "text": [
            "Data Imported Successfully!\n"
          ],
          "name": "stdout"
        }
      ]
    },
    {
      "cell_type": "markdown",
      "metadata": {
        "id": "e6c996ttBYwt"
      },
      "source": [
        "I will now manipulate the data variable and store the features and labels in separate variables \"X\" & \"y\".\n",
        "\n",
        "\n",
        "---\n",
        "\n"
      ]
    },
    {
      "cell_type": "code",
      "metadata": {
        "id": "AmmEElvkgo4i"
      },
      "source": [
        "#X = data.iloc[:, :-1].values  \n",
        "#y = data.iloc[:, 1].values\n",
        "X = data[[\"Hours\"]].values\n",
        "y = data[[\"Scores\"]].values\n",
        "#y = y.T\n",
        "#y = y.reshape((-1,))\n",
        "#print(X.shape, y.shape)\n",
        "#print(X, y)"
      ],
      "execution_count": null,
      "outputs": []
    },
    {
      "cell_type": "markdown",
      "metadata": {
        "id": "2BR9V3oCFA_L"
      },
      "source": [
        "Visualization of data is an important aspect. With visualization, we can understand better and develop human insights like developing trends and patterns in data. \n",
        "\n",
        "Now, we will visualize the data.\n",
        "\n",
        "---\n",
        "\n"
      ]
    },
    {
      "cell_type": "code",
      "metadata": {
        "colab": {
          "base_uri": "https://localhost:8080/",
          "height": 513
        },
        "id": "zjLeV3d8h_Lq",
        "outputId": "120799b3-09b4-4ca4-d053-c8750c8964c8"
      },
      "source": [
        "l_reg = linear_model.LinearRegression()\n",
        "plt.figure(figsize = (10, 8))\n",
        "ax = plt.axes()\n",
        "ax.set_facecolor(\"#f3faff\")\n",
        "plt.grid()\n",
        "plt.scatter(X, y, s = 100)\n",
        "plt.legend([\"Scores\"])\n",
        "plt.title('Hours vs Percentage')  \n",
        "plt.xlabel('Hours Studied')  \n",
        "plt.ylabel('Percentage Score')\n",
        "plt.show()"
      ],
      "execution_count": null,
      "outputs": [
        {
          "output_type": "display_data",
          "data": {
            "image/png": "[encoded data removed]",
            "text/plain": [
              "<Figure size 720x576 with 1 Axes>"
            ]
          },
          "metadata": {
            "tags": [],
            "needs_background": "light"
          }
        }
      ]
    },
    {
      "cell_type": "markdown",
      "metadata": {
        "id": "QPcp57xyEq2-"
      },
      "source": [
        "Now, we have successfully imported the data and visualized it. We can now train our Linear Regression model as shown below. \n",
        "\n",
        "\n",
        "---\n",
        "\n"
      ]
    },
    {
      "cell_type": "code",
      "metadata": {
        "id": "Hf5Nc0tPipIU",
        "colab": {
          "base_uri": "https://localhost:8080/",
          "height": 530
        },
        "outputId": "35277a09-defc-4e11-d9a8-97026fcbf79d"
      },
      "source": [
        "X_train, X_test, y_train, y_test = train_test_split(X, y, test_size=0.2)\n",
        "model = l_reg.fit(X_train, y_train)\n",
        "print(\"Training complete!\")\n",
        "m = l_reg.coef_\n",
        "b = l_reg.intercept_\n",
        "line = m*X + b\n",
        "plt.figure(figsize = (10, 8))\n",
        "ax = plt.axes()\n",
        "ax.set_facecolor(\"#f3faff\")\n",
        "plt.grid()\n",
        "plt.scatter(X, y, s = 100)\n",
        "plt.legend([\"Scores\"])\n",
        "plt.title('Hours vs Percentage') \n",
        "plt.plot(X, line) \n",
        "plt.xlabel('Hours Studied')  \n",
        "plt.ylabel('Percentage Score')\n",
        "plt.show()"
      ],
      "execution_count": null,
      "outputs": [
        {
          "output_type": "stream",
          "text": [
            "Training complete!\n"
          ],
          "name": "stdout"
        },
        {
          "output_type": "display_data",
          "data": {
            "image/png": "[encoded data removed]",
            "text/plain": [
              "<Figure size 720x576 with 1 Axes>"
            ]
          },
          "metadata": {
            "tags": [],
            "needs_background": "light"
          }
        }
      ]
    },
    {
      "cell_type": "markdown",
      "metadata": {
        "id": "WBuaqnnNEJcC"
      },
      "source": [
        "We can verify our model has trained correctly by comparing its result on the test-set with the actual values. \n",
        "\n",
        "\n",
        "---\n",
        "\n"
      ]
    },
    {
      "cell_type": "code",
      "metadata": {
        "colab": {
          "base_uri": "https://localhost:8080/",
          "height": 195
        },
        "id": "GMF0hrZokxoW",
        "outputId": "366bac9a-2459-46c9-8dce-78e42cc61d0a"
      },
      "source": [
        "y_pred = model.predict(X_test)\n",
        "#print(y_test.shape, y_pred.shape)\n",
        "y_pred = y_pred.reshape((-1,))\n",
        "y_test = y_test.reshape((-1,))\n",
        "#print(y_test.shape, y_pred.shape)\n",
        "#y_pred.reshape(1, -1)\n",
        "#print(y_pred)\n",
        "#print(y_test)\n",
        "df = pd.DataFrame({'Actual': y_test, 'Predicted': y_pred})  \n",
        "df"
      ],
      "execution_count": null,
      "outputs": [
        {
          "output_type": "execute_result",
          "data": {
            "text/html": [
              "<div>\n",
              "<style scoped>\n",
              "    .dataframe tbody tr th:only-of-type {\n",
              "        vertical-align: middle;\n",
              "    }\n",
              "\n",
              "    .dataframe tbody tr th {\n",
              "        vertical-align: top;\n",
              "    }\n",
              "\n",
              "    .dataframe thead th {\n",
              "        text-align: right;\n",
              "    }\n",
              "</style>\n",
              "<table border=\"1\" class=\"dataframe\">\n",
              "  <thead>\n",
              "    <tr style=\"text-align: right;\">\n",
              "      <th></th>\n",
              "      <th>Actual</th>\n",
              "      <th>Predicted</th>\n",
              "    </tr>\n",
              "  </thead>\n",
              "  <tbody>\n",
              "    <tr>\n",
              "      <th>0</th>\n",
              "      <td>75</td>\n",
              "      <td>86.468742</td>\n",
              "    </tr>\n",
              "    <tr>\n",
              "      <th>1</th>\n",
              "      <td>41</td>\n",
              "      <td>46.778668</td>\n",
              "    </tr>\n",
              "    <tr>\n",
              "      <th>2</th>\n",
              "      <td>42</td>\n",
              "      <td>34.871646</td>\n",
              "    </tr>\n",
              "    <tr>\n",
              "      <th>3</th>\n",
              "      <td>95</td>\n",
              "      <td>90.437749</td>\n",
              "    </tr>\n",
              "    <tr>\n",
              "      <th>4</th>\n",
              "      <td>25</td>\n",
              "      <td>28.918135</td>\n",
              "    </tr>\n",
              "  </tbody>\n",
              "</table>\n",
              "</div>"
            ],
            "text/plain": [
              "   Actual  Predicted\n",
              "0      75  86.468742\n",
              "1      41  46.778668\n",
              "2      42  34.871646\n",
              "3      95  90.437749\n",
              "4      25  28.918135"
            ]
          },
          "metadata": {
            "tags": []
          },
          "execution_count": 15
        }
      ]
    },
    {
      "cell_type": "markdown",
      "metadata": {
        "id": "cst5QN0IDtFO"
      },
      "source": [
        "Now that we have trained the model and cross-checked it on test-set, We can make predictions using our own data and get the output. \n",
        "\n",
        "\n",
        "---\n",
        "\n"
      ]
    },
    {
      "cell_type": "code",
      "metadata": {
        "id": "rKKKFZzw1hck",
        "colab": {
          "base_uri": "https://localhost:8080/",
          "height": 548
        },
        "outputId": "2c8a1cc8-61da-4698-b2c5-514dbe93fa4a"
      },
      "source": [
        "#on custom data\n",
        "hours = input(\"Enter hours of study: \")\n",
        "#hours = 9.25\n",
        "hours = np.array(hours, dtype='float64')\n",
        "prediction = model.predict(hours.reshape(1, -1))\n",
        "print(\"Prediction = {}\".format(prediction[0][0]))\n",
        "#plt.figure(facecolor = \"blue\")\n",
        "plt.figure(figsize = (10, 8))\n",
        "ax = plt.axes()\n",
        "plt.legend([\"Scores\"])\n",
        "plt.title('Hours vs Percentage') \n",
        "plt.plot(X, line) \n",
        "plt.axvline(x = hours, linestyle = \"dashed\")\n",
        "ax.set_facecolor(\"#f3faff\")\n",
        "#plt.annotate(\"Input Hours\", (hours, 10))\n",
        "plt.annotate(s = \"(\"+str(hours)+\", \"+str(\"{:.2f}\".format(prediction[0][0]))+\")\", xy = (hours, prediction[0][0]), xytext =(hours+2, prediction[0][0]-2), arrowprops = dict(facecolor ='green', shrink = 0.005))\n",
        "plt.axhline(y = prediction[0][0], linestyle = \"dashed\")\n",
        "plt.xlabel('Hours Studied')  \n",
        "plt.ylabel('Percentage Score')\n",
        "plt.grid()\n",
        "plt.show()"
      ],
      "execution_count": null,
      "outputs": [
        {
          "output_type": "stream",
          "text": [
            "Enter hours of study: 5.5\n",
            "Prediction = 56.701186623516726\n"
          ],
          "name": "stdout"
        },
        {
          "output_type": "display_data",
          "data": {
            "image/png": "[encoded data removed]",
            "text/plain": [
              "<Figure size 720x576 with 1 Axes>"
            ]
          },
          "metadata": {
            "tags": [],
            "needs_background": "light"
          }
        }
      ]
    },
    {
      "cell_type": "markdown",
      "metadata": {
        "id": "JQNu6vDdDfkb"
      },
      "source": [
        "We can evaluate the performance of the model based on some metrics which are shown below. \n",
        "\n",
        "\n",
        "---\n",
        "\n"
      ]
    },
    {
      "cell_type": "code",
      "metadata": {
        "colab": {
          "base_uri": "https://localhost:8080/"
        },
        "id": "TblXZgqYf9Qf",
        "outputId": "c5373533-dd4f-4a8e-93e5-04372d9cfa83"
      },
      "source": [
        "print(\"R^2 Score: \", model.score(X_test, y_test))\n",
        "print(\"Metric Error Score: \", metrics.mean_absolute_error(y_test, y_pred))"
      ],
      "execution_count": null,
      "outputs": [
        {
          "output_type": "stream",
          "text": [
            "R^2 Score:  0.922804489108601\n",
            "Metric Error Score:  6.571229944692727\n"
          ],
          "name": "stdout"
        }
      ]
    },
    {
      "cell_type": "code",
      "metadata": {
        "id": "df5uHuaSdEvd"
      },
      "source": [
        ""
      ],
      "execution_count": null,
      "outputs": []
    }
  ]
}