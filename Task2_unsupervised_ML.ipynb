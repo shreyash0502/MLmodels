{
  "nbformat": 4,
  "nbformat_minor": 0,
  "metadata": {
    "colab": {
      "name": "Task2_unsupervised ML.ipynb",
      "provenance": [],
      "authorship_tag": "ABX9TyNhbL6huV46h2XuQRIJJmj4",
      "include_colab_link": true
    },
    "kernelspec": {
      "name": "python3",
      "display_name": "Python 3"
    },
    "language_info": {
      "name": "python"
    }
  },
  "cells": [
    {
      "cell_type": "markdown",
      "metadata": {
        "id": "view-in-github",
        "colab_type": "text"
      },
      "source": [
        "<a href=\"https://colab.research.google.com/github/shreyash0502/MLmodels/blob/main/Task2_unsupervised_ML.ipynb\" target=\"_parent\"><img src=\"https://colab.research.google.com/assets/colab-badge.svg\" alt=\"Open In Colab\"/></a>"
      ]
    },
    {
      "cell_type": "markdown",
      "metadata": {
        "id": "UsyH1CyJ9Eh2"
      },
      "source": [
        "<h1><b>This is my project for prediction using Unsupervised Machine Learning.</h1>\n",
        "\n",
        "```\n",
        "#Here, I will implement the K-means clustering ML algorithm for my model.\n",
        "```\n",
        "\n",
        "\n",
        "---\n",
        "\n",
        "\n",
        "\n",
        "\n",
        "\n",
        "\n",
        "\n"
      ]
    },
    {
      "cell_type": "markdown",
      "metadata": {
        "id": "I7b4S0oq-amw"
      },
      "source": [
        "First, we import all the necessary libraries for developing the K-means clustering model.\n",
        "\n",
        "---\n",
        "```\n",
        "# Here, we will use the sci-kit learn python library.\n",
        "# We will also use python libraries- pandas(for data formatting and manipulation) and numpy(for array manipulation).\n",
        "# Finally, I will use matplotlib library for visualization. \n",
        "```\n",
        "\n",
        "\n",
        "\n",
        "\n"
      ]
    },
    {
      "cell_type": "code",
      "metadata": {
        "id": "_msvJGngJJoM"
      },
      "source": [
        "from sklearn.cluster import KMeans\n",
        "from sklearn.model_selection import train_test_split\n",
        "from matplotlib import pyplot as plt\n",
        "import pandas as pd\n",
        "import numpy as np\n",
        "from sklearn import metrics, datasets\n"
      ],
      "execution_count": null,
      "outputs": []
    },
    {
      "cell_type": "markdown",
      "metadata": {
        "id": "lplxUUJTAlvp"
      },
      "source": [
        "Now, we will import the iris dataset in our project and extract features and labels from it. \n",
        "\n",
        "---\n",
        "\n"
      ]
    },
    {
      "cell_type": "code",
      "metadata": {
        "id": "AmmEElvkgo4i",
        "colab": {
          "base_uri": "https://localhost:8080/",
          "height": 213
        },
        "outputId": "fb51b8e2-3a0f-416d-ee24-818d2e8bce10"
      },
      "source": [
        "iris = datasets.load_iris()\n",
        "iris_df = pd.DataFrame(iris.data, columns = iris.feature_names)\n",
        "display(iris_df.head(5))\n",
        "y = iris.target\n",
        "#print(np.shape(y))\n",
        "data = pd.read_csv(\"http://bit.ly/w-data\")\n",
        "print(\"Data imported successfully!\")\n",
        "X = iris_df.iloc[0:].values"
      ],
      "execution_count": null,
      "outputs": [
        {
          "output_type": "display_data",
          "data": {
            "text/html": [
              "<div>\n",
              "<style scoped>\n",
              "    .dataframe tbody tr th:only-of-type {\n",
              "        vertical-align: middle;\n",
              "    }\n",
              "\n",
              "    .dataframe tbody tr th {\n",
              "        vertical-align: top;\n",
              "    }\n",
              "\n",
              "    .dataframe thead th {\n",
              "        text-align: right;\n",
              "    }\n",
              "</style>\n",
              "<table border=\"1\" class=\"dataframe\">\n",
              "  <thead>\n",
              "    <tr style=\"text-align: right;\">\n",
              "      <th></th>\n",
              "      <th>sepal length (cm)</th>\n",
              "      <th>sepal width (cm)</th>\n",
              "      <th>petal length (cm)</th>\n",
              "      <th>petal width (cm)</th>\n",
              "    </tr>\n",
              "  </thead>\n",
              "  <tbody>\n",
              "    <tr>\n",
              "      <th>0</th>\n",
              "      <td>5.1</td>\n",
              "      <td>3.5</td>\n",
              "      <td>1.4</td>\n",
              "      <td>0.2</td>\n",
              "    </tr>\n",
              "    <tr>\n",
              "      <th>1</th>\n",
              "      <td>4.9</td>\n",
              "      <td>3.0</td>\n",
              "      <td>1.4</td>\n",
              "      <td>0.2</td>\n",
              "    </tr>\n",
              "    <tr>\n",
              "      <th>2</th>\n",
              "      <td>4.7</td>\n",
              "      <td>3.2</td>\n",
              "      <td>1.3</td>\n",
              "      <td>0.2</td>\n",
              "    </tr>\n",
              "    <tr>\n",
              "      <th>3</th>\n",
              "      <td>4.6</td>\n",
              "      <td>3.1</td>\n",
              "      <td>1.5</td>\n",
              "      <td>0.2</td>\n",
              "    </tr>\n",
              "    <tr>\n",
              "      <th>4</th>\n",
              "      <td>5.0</td>\n",
              "      <td>3.6</td>\n",
              "      <td>1.4</td>\n",
              "      <td>0.2</td>\n",
              "    </tr>\n",
              "  </tbody>\n",
              "</table>\n",
              "</div>"
            ],
            "text/plain": [
              "   sepal length (cm)  sepal width (cm)  petal length (cm)  petal width (cm)\n",
              "0                5.1               3.5                1.4               0.2\n",
              "1                4.9               3.0                1.4               0.2\n",
              "2                4.7               3.2                1.3               0.2\n",
              "3                4.6               3.1                1.5               0.2\n",
              "4                5.0               3.6                1.4               0.2"
            ]
          },
          "metadata": {
            "tags": []
          }
        },
        {
          "output_type": "stream",
          "text": [
            "Data imported successfully!\n"
          ],
          "name": "stdout"
        }
      ]
    },
    {
      "cell_type": "markdown",
      "metadata": {
        "id": "2BR9V3oCFA_L"
      },
      "source": [
        "Visualization of data is an important aspect. With visualization, we can understand better and develop human insights like developing trends and patterns in data. \n",
        "\n",
        "Now, we will visualize the data.\n",
        "\n",
        "---\n",
        "\n"
      ]
    },
    {
      "cell_type": "code",
      "metadata": {
        "colab": {
          "base_uri": "https://localhost:8080/",
          "height": 538
        },
        "id": "f51jEPrOCg4I",
        "outputId": "f6e02fd0-a6d8-4201-e383-f9a749a67443"
      },
      "source": [
        "plt.figure(figsize=(10,8))\n",
        "plt.scatter(X[:, 0], X[:, 1], s = 100, c = 'black')\n",
        "plt.grid()\n",
        "ax = plt.axes()\n",
        "ax.set_facecolor(\"#f3faff\")\n",
        "plt.show()"
      ],
      "execution_count": null,
      "outputs": [
        {
          "output_type": "stream",
          "text": [
            "/usr/local/lib/python3.7/dist-packages/ipykernel_launcher.py:4: MatplotlibDeprecationWarning: Adding an axes using the same arguments as a previous axes currently reuses the earlier instance.  In a future version, a new instance will always be created and returned.  Meanwhile, this warning can be suppressed, and the future behavior ensured, by passing a unique label to each axes instance.\n",
            "  after removing the cwd from sys.path.\n"
          ],
          "name": "stderr"
        },
        {
          "output_type": "display_data",
          "data": {
            "image/png": "[encoded data removed]",
            "text/plain": [
              "<Figure size 720x576 with 1 Axes>"
            ]
          },
          "metadata": {
            "tags": [],
            "needs_background": "light"
          }
        }
      ]
    },
    {
      "cell_type": "markdown",
      "metadata": {
        "id": "e6c996ttBYwt"
      },
      "source": [
        "Choosing the most efficient k, i.e, number of clusters can be tricky and completely depends on the nature of data distribution. So, we will use the \"Elbow method\" to find the correct value of k. Code is shown below: \n",
        "\n",
        "\n",
        "---\n",
        "\n"
      ]
    },
    {
      "cell_type": "code",
      "metadata": {
        "colab": {
          "base_uri": "https://localhost:8080/",
          "height": 513
        },
        "id": "OzF8oUlA-B7o",
        "outputId": "1b9397c5-d902-4013-dc6d-bb670c5a8c6f"
      },
      "source": [
        "\n",
        "wcss = []\n",
        "\n",
        "for i in range(1, 11):\n",
        "    kmeans = KMeans(n_clusters = i, init = 'k-means++', \n",
        "                    max_iter = 300, n_init = 10, random_state = 0)\n",
        "    kmeans.fit(X)\n",
        "    wcss.append(kmeans.inertia_)\n",
        "\n",
        "# Plotting the results onto a line graph, \n",
        "# `allowing us to observe 'The elbow'\n",
        "plt.figure(figsize=(10,8))\n",
        "ax = plt.axes()\n",
        "ax.set_facecolor(\"#f3faff\")\n",
        "plt.grid()\n",
        "plt.plot(range(1, 11), wcss)\n",
        "plt.title('The elbow method')\n",
        "plt.xlabel('Number of clusters')\n",
        "plt.ylabel('WCSS') # Within cluster sum of squares\n",
        "plt.show()\n",
        "#print(np.shape(X))"
      ],
      "execution_count": null,
      "outputs": [
        {
          "output_type": "display_data",
          "data": {
            "image/png": "[encoded data removed]",
            "text/plain": [
              "<Figure size 720x576 with 1 Axes>"
            ]
          },
          "metadata": {
            "tags": [],
            "needs_background": "light"
          }
        }
      ]
    },
    {
      "cell_type": "markdown",
      "metadata": {
        "id": "QPcp57xyEq2-"
      },
      "source": [
        "Now, we have successfully imported the data and visualized it. We can now train our K-Means model as shown below. \n",
        "\n",
        "Number of clusters chosen = 3\n",
        "\n",
        "---\n",
        "\n",
        "We will then plot the clusters with different colors. We can't compare the test cases with prediction directly because assigning a number to a cluster is completely arbitrary. So, there are other methods to evaluate our model's performance which will be discussed in a later section."
      ]
    },
    {
      "cell_type": "code",
      "metadata": {
        "colab": {
          "base_uri": "https://localhost:8080/",
          "height": 483
        },
        "id": "zjLeV3d8h_Lq",
        "outputId": "eff721d3-34b8-4115-f079-36bfb15a54a0"
      },
      "source": [
        "# Applying kmeans to the dataset / Creating the kmeans classifier\n",
        "kmeans = KMeans(n_clusters = 3, init = 'k-means++',\n",
        "                max_iter = 300, n_init = 10, random_state = 0)\n",
        "X_train, X_test, y_train, y_test = train_test_split(X, y, test_size=0.2)\n",
        "#kmeans.fit(X_train)\n",
        "y_kmeans = kmeans.fit_predict(X_train)\n",
        "y_pred = kmeans.predict(X_test)\n",
        "plt.figure(figsize=(10,8))\n",
        "ax = plt.axes()\n",
        "ax.set_facecolor(\"#f3faff\")\n",
        "plt.grid()\n",
        "plt.scatter(X_train[y_kmeans == 0, 0], X_train[y_kmeans == 0, 1], \n",
        "            s = 100, c = 'red', label = 'Cluster 1')\n",
        "plt.scatter(X_train[y_kmeans == 1, 0], X_train[y_kmeans == 1, 1], \n",
        "            s = 100, c = 'blue', label = 'Cluster 2')\n",
        "plt.scatter(X_train[y_kmeans == 2, 0], X_train[y_kmeans == 2, 1],\n",
        "            s = 100, c = 'green', label = 'Cluster 3')\n",
        "\n",
        "# Plotting the centroids of the clusters\n",
        "plt.scatter(kmeans.cluster_centers_[:, 0], kmeans.cluster_centers_[:,1], \n",
        "            s = 100, c = 'yellow', label = 'Centroids')\n",
        "plt.legend()\n",
        "plt.show()\n",
        "#print(y_kmeans)\n",
        "#y"
      ],
      "execution_count": null,
      "outputs": [
        {
          "output_type": "display_data",
          "data": {
            "image/png": "[encoded data removed]",
            "text/plain": [
              "<Figure size 720x576 with 1 Axes>"
            ]
          },
          "metadata": {
            "tags": [],
            "needs_background": "light"
          }
        }
      ]
    },
    {
      "cell_type": "markdown",
      "metadata": {
        "id": "JQNu6vDdDfkb"
      },
      "source": [
        "We can evaluate the performance of the model based on the normalized mutual information score. Code is shown below:\n",
        "\n",
        "\n",
        "---\n",
        "\n"
      ]
    },
    {
      "cell_type": "code",
      "metadata": {
        "id": "Hf5Nc0tPipIU",
        "colab": {
          "base_uri": "https://localhost:8080/"
        },
        "outputId": "08a6b786-ab75-4398-af01-38ae73344c03"
      },
      "source": [
        "from sklearn.metrics import normalized_mutual_info_score\n",
        "print(\"accuracy: \", normalized_mutual_info_score(y_test, y_pred))"
      ],
      "execution_count": null,
      "outputs": [
        {
          "output_type": "stream",
          "text": [
            "accuracy:  0.7762445166809027\n"
          ],
          "name": "stdout"
        }
      ]
    },
    {
      "cell_type": "code",
      "metadata": {
        "id": "1Dbx_5EhgE5p"
      },
      "source": [
        ""
      ],
      "execution_count": null,
      "outputs": []
    }
  ]
}